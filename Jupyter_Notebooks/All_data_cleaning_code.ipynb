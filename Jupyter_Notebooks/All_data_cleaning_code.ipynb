{
 "cells": [
  {
   "cell_type": "markdown",
   "id": "4cef7e5f",
   "metadata": {},
   "source": [
    "## Notebook Content"
   ]
  },
  {
   "cell_type": "markdown",
   "id": "0a59315b",
   "metadata": {},
   "source": [
    "In this notebook, we will clean the data combined from both datasets __Trader Joe's__ , and __Sprouts__."
   ]
  },
  {
   "cell_type": "markdown",
   "id": "fd04ea9e",
   "metadata": {},
   "source": [
    "## Import Libraries"
   ]
  },
  {
   "cell_type": "code",
   "execution_count": 81,
   "id": "2f1abccf",
   "metadata": {},
   "outputs": [],
   "source": [
    "import pandas as pd \n",
    "import sqlite3 as sql\n",
    "import seaborn as sns\n",
    "import matplotlib.pyplot as plt\n",
    "import numpy as np"
   ]
  },
  {
   "cell_type": "markdown",
   "id": "78ca728f",
   "metadata": {},
   "source": [
    "### Read Data from SQL"
   ]
  },
  {
   "cell_type": "code",
   "execution_count": 82,
   "id": "1ad6d8e5",
   "metadata": {},
   "outputs": [],
   "source": [
    "spouts_connection= sql.connect('Cleaned_Sprouts_df.db')\n",
    "df_spouts = pd.read_sql('SELECT * FROM Cleaned_Sprouts_df', spouts_connection)"
   ]
  },
  {
   "cell_type": "code",
   "execution_count": 83,
   "id": "0fc94699",
   "metadata": {},
   "outputs": [],
   "source": [
    "trader_connection= sql.connect('Cleaned_TraderJoes_df.db')\n",
    "df_trader = pd.read_sql('SELECT * FROM Cleaned_TraderJoes_df', trader_connection)"
   ]
  },
  {
   "cell_type": "markdown",
   "id": "8e0c2189",
   "metadata": {},
   "source": [
    "### Drop Index Column"
   ]
  },
  {
   "cell_type": "code",
   "execution_count": 84,
   "id": "8301c7a5",
   "metadata": {},
   "outputs": [],
   "source": [
    "#drop index column because we want to combine 2 datasets\n",
    "df_spouts.drop('index', axis=1, inplace=True)"
   ]
  },
  {
   "cell_type": "code",
   "execution_count": 85,
   "id": "18ca8fc2",
   "metadata": {},
   "outputs": [],
   "source": [
    "df_trader.drop('index', axis=1, inplace=True)"
   ]
  },
  {
   "cell_type": "markdown",
   "id": "0fcfbea9",
   "metadata": {},
   "source": [
    "### Explore Data"
   ]
  },
  {
   "cell_type": "code",
   "execution_count": 86,
   "id": "555b7693",
   "metadata": {},
   "outputs": [
    {
     "data": {
      "text/html": [
       "<div>\n",
       "<style scoped>\n",
       "    .dataframe tbody tr th:only-of-type {\n",
       "        vertical-align: middle;\n",
       "    }\n",
       "\n",
       "    .dataframe tbody tr th {\n",
       "        vertical-align: top;\n",
       "    }\n",
       "\n",
       "    .dataframe thead th {\n",
       "        text-align: right;\n",
       "    }\n",
       "</style>\n",
       "<table border=\"1\" class=\"dataframe\">\n",
       "  <thead>\n",
       "    <tr style=\"text-align: right;\">\n",
       "      <th></th>\n",
       "      <th>URL</th>\n",
       "      <th>CALORY</th>\n",
       "      <th>TOTAL_FAT</th>\n",
       "      <th>SATURATED_FAT</th>\n",
       "      <th>TRANS_FAT</th>\n",
       "      <th>CHOLESTEROL</th>\n",
       "      <th>SODIUM</th>\n",
       "      <th>TOTAL_CARBOHYDRATE</th>\n",
       "      <th>PROTEIN</th>\n",
       "      <th>VITAMIN_D</th>\n",
       "      <th>CALCIUM</th>\n",
       "      <th>IRON</th>\n",
       "      <th>POTASSIUM</th>\n",
       "      <th>FIBER</th>\n",
       "      <th>POLYUNSATURATED_FAT</th>\n",
       "      <th>MONOUNSATURATED_FAT</th>\n",
       "      <th>SUGARS</th>\n",
       "    </tr>\n",
       "  </thead>\n",
       "  <tbody>\n",
       "    <tr>\n",
       "      <th>0</th>\n",
       "      <td>https://www.traderjoes.com/home/products/pdp/0...</td>\n",
       "      <td>160</td>\n",
       "      <td>5.0</td>\n",
       "      <td>0.0</td>\n",
       "      <td>0.0</td>\n",
       "      <td>20.0</td>\n",
       "      <td>370.0</td>\n",
       "      <td>24.0</td>\n",
       "      <td>4.0</td>\n",
       "      <td>0.0</td>\n",
       "      <td>156.0</td>\n",
       "      <td>2.0</td>\n",
       "      <td>47.0</td>\n",
       "      <td>0.0</td>\n",
       "      <td>0.0</td>\n",
       "      <td>0.0</td>\n",
       "      <td>5.0</td>\n",
       "    </tr>\n",
       "    <tr>\n",
       "      <th>1</th>\n",
       "      <td>https://www.traderjoes.com/home/products/pdp/0...</td>\n",
       "      <td>120</td>\n",
       "      <td>2.0</td>\n",
       "      <td>0.0</td>\n",
       "      <td>0.0</td>\n",
       "      <td>0.0</td>\n",
       "      <td>420.0</td>\n",
       "      <td>20.0</td>\n",
       "      <td>4.0</td>\n",
       "      <td>0.0</td>\n",
       "      <td>20.0</td>\n",
       "      <td>2.0</td>\n",
       "      <td>70.0</td>\n",
       "      <td>0.0</td>\n",
       "      <td>0.0</td>\n",
       "      <td>0.0</td>\n",
       "      <td>2.0</td>\n",
       "    </tr>\n",
       "    <tr>\n",
       "      <th>2</th>\n",
       "      <td>https://www.traderjoes.com/home/products/pdp/0...</td>\n",
       "      <td>70</td>\n",
       "      <td>4.5</td>\n",
       "      <td>2.5</td>\n",
       "      <td>0.0</td>\n",
       "      <td>10.0</td>\n",
       "      <td>600.0</td>\n",
       "      <td>8.0</td>\n",
       "      <td>2.0</td>\n",
       "      <td>0.0</td>\n",
       "      <td>0.0</td>\n",
       "      <td>0.0</td>\n",
       "      <td>0.0</td>\n",
       "      <td>0.0</td>\n",
       "      <td>0.0</td>\n",
       "      <td>0.0</td>\n",
       "      <td>1.0</td>\n",
       "    </tr>\n",
       "    <tr>\n",
       "      <th>3</th>\n",
       "      <td>https://www.traderjoes.com/home/products/pdp/0...</td>\n",
       "      <td>170</td>\n",
       "      <td>10.0</td>\n",
       "      <td>7.0</td>\n",
       "      <td>0.0</td>\n",
       "      <td>20.0</td>\n",
       "      <td>220.0</td>\n",
       "      <td>18.0</td>\n",
       "      <td>3.0</td>\n",
       "      <td>0.0</td>\n",
       "      <td>10.0</td>\n",
       "      <td>0.2</td>\n",
       "      <td>0.0</td>\n",
       "      <td>1.0</td>\n",
       "      <td>0.0</td>\n",
       "      <td>0.0</td>\n",
       "      <td>1.0</td>\n",
       "    </tr>\n",
       "    <tr>\n",
       "      <th>4</th>\n",
       "      <td>https://www.traderjoes.com/home/products/pdp/0...</td>\n",
       "      <td>120</td>\n",
       "      <td>8.0</td>\n",
       "      <td>4.5</td>\n",
       "      <td>0.0</td>\n",
       "      <td>25.0</td>\n",
       "      <td>150.0</td>\n",
       "      <td>11.0</td>\n",
       "      <td>2.0</td>\n",
       "      <td>0.1</td>\n",
       "      <td>10.0</td>\n",
       "      <td>0.2</td>\n",
       "      <td>20.0</td>\n",
       "      <td>0.0</td>\n",
       "      <td>0.0</td>\n",
       "      <td>0.0</td>\n",
       "      <td>0.0</td>\n",
       "    </tr>\n",
       "  </tbody>\n",
       "</table>\n",
       "</div>"
      ],
      "text/plain": [
       "                                                 URL  CALORY  TOTAL_FAT  \\\n",
       "0  https://www.traderjoes.com/home/products/pdp/0...     160        5.0   \n",
       "1  https://www.traderjoes.com/home/products/pdp/0...     120        2.0   \n",
       "2  https://www.traderjoes.com/home/products/pdp/0...      70        4.5   \n",
       "3  https://www.traderjoes.com/home/products/pdp/0...     170       10.0   \n",
       "4  https://www.traderjoes.com/home/products/pdp/0...     120        8.0   \n",
       "\n",
       "   SATURATED_FAT  TRANS_FAT  CHOLESTEROL  SODIUM  TOTAL_CARBOHYDRATE  PROTEIN  \\\n",
       "0            0.0        0.0         20.0   370.0                24.0      4.0   \n",
       "1            0.0        0.0          0.0   420.0                20.0      4.0   \n",
       "2            2.5        0.0         10.0   600.0                 8.0      2.0   \n",
       "3            7.0        0.0         20.0   220.0                18.0      3.0   \n",
       "4            4.5        0.0         25.0   150.0                11.0      2.0   \n",
       "\n",
       "   VITAMIN_D  CALCIUM  IRON  POTASSIUM  FIBER  POLYUNSATURATED_FAT  \\\n",
       "0        0.0    156.0   2.0       47.0    0.0                  0.0   \n",
       "1        0.0     20.0   2.0       70.0    0.0                  0.0   \n",
       "2        0.0      0.0   0.0        0.0    0.0                  0.0   \n",
       "3        0.0     10.0   0.2        0.0    1.0                  0.0   \n",
       "4        0.1     10.0   0.2       20.0    0.0                  0.0   \n",
       "\n",
       "   MONOUNSATURATED_FAT  SUGARS  \n",
       "0                  0.0     5.0  \n",
       "1                  0.0     2.0  \n",
       "2                  0.0     1.0  \n",
       "3                  0.0     1.0  \n",
       "4                  0.0     0.0  "
      ]
     },
     "execution_count": 86,
     "metadata": {},
     "output_type": "execute_result"
    }
   ],
   "source": [
    "df_trader.head()"
   ]
  },
  {
   "cell_type": "code",
   "execution_count": 87,
   "id": "f2832d89",
   "metadata": {
    "scrolled": false
   },
   "outputs": [
    {
     "data": {
      "text/html": [
       "<div>\n",
       "<style scoped>\n",
       "    .dataframe tbody tr th:only-of-type {\n",
       "        vertical-align: middle;\n",
       "    }\n",
       "\n",
       "    .dataframe tbody tr th {\n",
       "        vertical-align: top;\n",
       "    }\n",
       "\n",
       "    .dataframe thead th {\n",
       "        text-align: right;\n",
       "    }\n",
       "</style>\n",
       "<table border=\"1\" class=\"dataframe\">\n",
       "  <thead>\n",
       "    <tr style=\"text-align: right;\">\n",
       "      <th></th>\n",
       "      <th>URL</th>\n",
       "      <th>CALORY</th>\n",
       "      <th>TOTAL_FAT</th>\n",
       "      <th>SATURATED_FAT</th>\n",
       "      <th>TRANS_FAT</th>\n",
       "      <th>CHOLESTEROL</th>\n",
       "      <th>SODIUM</th>\n",
       "      <th>TOTAL_CARBOHYDRATE</th>\n",
       "      <th>PROTEIN</th>\n",
       "      <th>VITAMIN_D</th>\n",
       "      <th>CALCIUM</th>\n",
       "      <th>IRON</th>\n",
       "      <th>POTASSIUM</th>\n",
       "      <th>SUGARS</th>\n",
       "      <th>FIBER</th>\n",
       "    </tr>\n",
       "  </thead>\n",
       "  <tbody>\n",
       "    <tr>\n",
       "      <th>0</th>\n",
       "      <td>https://shop.sprouts.com/shop/categories/133?p...</td>\n",
       "      <td>140</td>\n",
       "      <td>8.0</td>\n",
       "      <td>0.5</td>\n",
       "      <td>0.0</td>\n",
       "      <td>0.0</td>\n",
       "      <td>110.0</td>\n",
       "      <td>16.0</td>\n",
       "      <td>2.0</td>\n",
       "      <td>0.0</td>\n",
       "      <td>22.0</td>\n",
       "      <td>0.0</td>\n",
       "      <td>65.0</td>\n",
       "      <td>0.0</td>\n",
       "      <td>1.0</td>\n",
       "    </tr>\n",
       "    <tr>\n",
       "      <th>1</th>\n",
       "      <td>https://shop.sprouts.com/shop/categories/133?p...</td>\n",
       "      <td>150</td>\n",
       "      <td>9.0</td>\n",
       "      <td>1.5</td>\n",
       "      <td>0.0</td>\n",
       "      <td>0.0</td>\n",
       "      <td>120.0</td>\n",
       "      <td>16.0</td>\n",
       "      <td>2.0</td>\n",
       "      <td>0.0</td>\n",
       "      <td>6.0</td>\n",
       "      <td>0.0</td>\n",
       "      <td>450.0</td>\n",
       "      <td>0.0</td>\n",
       "      <td>1.0</td>\n",
       "    </tr>\n",
       "    <tr>\n",
       "      <th>2</th>\n",
       "      <td>https://shop.sprouts.com/shop/categories/133?p...</td>\n",
       "      <td>130</td>\n",
       "      <td>7.0</td>\n",
       "      <td>0.5</td>\n",
       "      <td>0.0</td>\n",
       "      <td>0.0</td>\n",
       "      <td>65.0</td>\n",
       "      <td>17.0</td>\n",
       "      <td>2.0</td>\n",
       "      <td>0.0</td>\n",
       "      <td>0.0</td>\n",
       "      <td>0.0</td>\n",
       "      <td>0.0</td>\n",
       "      <td>0.0</td>\n",
       "      <td>2.0</td>\n",
       "    </tr>\n",
       "    <tr>\n",
       "      <th>3</th>\n",
       "      <td>https://shop.sprouts.com/shop/categories/133?p...</td>\n",
       "      <td>140</td>\n",
       "      <td>7.0</td>\n",
       "      <td>0.5</td>\n",
       "      <td>0.0</td>\n",
       "      <td>0.0</td>\n",
       "      <td>120.0</td>\n",
       "      <td>16.0</td>\n",
       "      <td>2.0</td>\n",
       "      <td>0.0</td>\n",
       "      <td>23.0</td>\n",
       "      <td>0.0</td>\n",
       "      <td>65.0</td>\n",
       "      <td>0.0</td>\n",
       "      <td>1.0</td>\n",
       "    </tr>\n",
       "    <tr>\n",
       "      <th>4</th>\n",
       "      <td>https://shop.sprouts.com/shop/categories/133?p...</td>\n",
       "      <td>140</td>\n",
       "      <td>8.0</td>\n",
       "      <td>1.0</td>\n",
       "      <td>0.0</td>\n",
       "      <td>0.0</td>\n",
       "      <td>200.0</td>\n",
       "      <td>17.0</td>\n",
       "      <td>2.0</td>\n",
       "      <td>0.0</td>\n",
       "      <td>5.0</td>\n",
       "      <td>0.4</td>\n",
       "      <td>380.0</td>\n",
       "      <td>1.0</td>\n",
       "      <td>1.0</td>\n",
       "    </tr>\n",
       "  </tbody>\n",
       "</table>\n",
       "</div>"
      ],
      "text/plain": [
       "                                                 URL  CALORY  TOTAL_FAT  \\\n",
       "0  https://shop.sprouts.com/shop/categories/133?p...     140        8.0   \n",
       "1  https://shop.sprouts.com/shop/categories/133?p...     150        9.0   \n",
       "2  https://shop.sprouts.com/shop/categories/133?p...     130        7.0   \n",
       "3  https://shop.sprouts.com/shop/categories/133?p...     140        7.0   \n",
       "4  https://shop.sprouts.com/shop/categories/133?p...     140        8.0   \n",
       "\n",
       "   SATURATED_FAT  TRANS_FAT  CHOLESTEROL  SODIUM  TOTAL_CARBOHYDRATE  PROTEIN  \\\n",
       "0            0.5        0.0          0.0   110.0                16.0      2.0   \n",
       "1            1.5        0.0          0.0   120.0                16.0      2.0   \n",
       "2            0.5        0.0          0.0    65.0                17.0      2.0   \n",
       "3            0.5        0.0          0.0   120.0                16.0      2.0   \n",
       "4            1.0        0.0          0.0   200.0                17.0      2.0   \n",
       "\n",
       "   VITAMIN_D  CALCIUM  IRON  POTASSIUM  SUGARS  FIBER  \n",
       "0        0.0     22.0   0.0       65.0     0.0    1.0  \n",
       "1        0.0      6.0   0.0      450.0     0.0    1.0  \n",
       "2        0.0      0.0   0.0        0.0     0.0    2.0  \n",
       "3        0.0     23.0   0.0       65.0     0.0    1.0  \n",
       "4        0.0      5.0   0.4      380.0     1.0    1.0  "
      ]
     },
     "execution_count": 87,
     "metadata": {},
     "output_type": "execute_result"
    }
   ],
   "source": [
    "df_spouts.head()"
   ]
  },
  {
   "cell_type": "markdown",
   "id": "d867b77c",
   "metadata": {},
   "source": [
    "### Concat Datasets "
   ]
  },
  {
   "cell_type": "code",
   "execution_count": 88,
   "id": "6020bb80",
   "metadata": {},
   "outputs": [],
   "source": [
    "all_df= pd.concat([df_spouts,df_trader],ignore_index=True)"
   ]
  },
  {
   "cell_type": "markdown",
   "id": "af401ee1",
   "metadata": {},
   "source": [
    "### Explore Data After Combination "
   ]
  },
  {
   "cell_type": "code",
   "execution_count": 89,
   "id": "4b3343b1",
   "metadata": {},
   "outputs": [
    {
     "data": {
      "text/html": [
       "<div>\n",
       "<style scoped>\n",
       "    .dataframe tbody tr th:only-of-type {\n",
       "        vertical-align: middle;\n",
       "    }\n",
       "\n",
       "    .dataframe tbody tr th {\n",
       "        vertical-align: top;\n",
       "    }\n",
       "\n",
       "    .dataframe thead th {\n",
       "        text-align: right;\n",
       "    }\n",
       "</style>\n",
       "<table border=\"1\" class=\"dataframe\">\n",
       "  <thead>\n",
       "    <tr style=\"text-align: right;\">\n",
       "      <th></th>\n",
       "      <th>URL</th>\n",
       "      <th>CALORY</th>\n",
       "      <th>TOTAL_FAT</th>\n",
       "      <th>SATURATED_FAT</th>\n",
       "      <th>TRANS_FAT</th>\n",
       "      <th>CHOLESTEROL</th>\n",
       "      <th>SODIUM</th>\n",
       "      <th>TOTAL_CARBOHYDRATE</th>\n",
       "      <th>PROTEIN</th>\n",
       "      <th>VITAMIN_D</th>\n",
       "      <th>CALCIUM</th>\n",
       "      <th>IRON</th>\n",
       "      <th>POTASSIUM</th>\n",
       "      <th>SUGARS</th>\n",
       "      <th>FIBER</th>\n",
       "      <th>POLYUNSATURATED_FAT</th>\n",
       "      <th>MONOUNSATURATED_FAT</th>\n",
       "    </tr>\n",
       "  </thead>\n",
       "  <tbody>\n",
       "    <tr>\n",
       "      <th>0</th>\n",
       "      <td>https://shop.sprouts.com/shop/categories/133?p...</td>\n",
       "      <td>140</td>\n",
       "      <td>8.0</td>\n",
       "      <td>0.5</td>\n",
       "      <td>0.0</td>\n",
       "      <td>0.0</td>\n",
       "      <td>110.0</td>\n",
       "      <td>16.0</td>\n",
       "      <td>2.0</td>\n",
       "      <td>0.0</td>\n",
       "      <td>22.0</td>\n",
       "      <td>0.0</td>\n",
       "      <td>65.0</td>\n",
       "      <td>0.0</td>\n",
       "      <td>1.0</td>\n",
       "      <td>NaN</td>\n",
       "      <td>NaN</td>\n",
       "    </tr>\n",
       "    <tr>\n",
       "      <th>1</th>\n",
       "      <td>https://shop.sprouts.com/shop/categories/133?p...</td>\n",
       "      <td>150</td>\n",
       "      <td>9.0</td>\n",
       "      <td>1.5</td>\n",
       "      <td>0.0</td>\n",
       "      <td>0.0</td>\n",
       "      <td>120.0</td>\n",
       "      <td>16.0</td>\n",
       "      <td>2.0</td>\n",
       "      <td>0.0</td>\n",
       "      <td>6.0</td>\n",
       "      <td>0.0</td>\n",
       "      <td>450.0</td>\n",
       "      <td>0.0</td>\n",
       "      <td>1.0</td>\n",
       "      <td>NaN</td>\n",
       "      <td>NaN</td>\n",
       "    </tr>\n",
       "    <tr>\n",
       "      <th>2</th>\n",
       "      <td>https://shop.sprouts.com/shop/categories/133?p...</td>\n",
       "      <td>130</td>\n",
       "      <td>7.0</td>\n",
       "      <td>0.5</td>\n",
       "      <td>0.0</td>\n",
       "      <td>0.0</td>\n",
       "      <td>65.0</td>\n",
       "      <td>17.0</td>\n",
       "      <td>2.0</td>\n",
       "      <td>0.0</td>\n",
       "      <td>0.0</td>\n",
       "      <td>0.0</td>\n",
       "      <td>0.0</td>\n",
       "      <td>0.0</td>\n",
       "      <td>2.0</td>\n",
       "      <td>NaN</td>\n",
       "      <td>NaN</td>\n",
       "    </tr>\n",
       "    <tr>\n",
       "      <th>3</th>\n",
       "      <td>https://shop.sprouts.com/shop/categories/133?p...</td>\n",
       "      <td>140</td>\n",
       "      <td>7.0</td>\n",
       "      <td>0.5</td>\n",
       "      <td>0.0</td>\n",
       "      <td>0.0</td>\n",
       "      <td>120.0</td>\n",
       "      <td>16.0</td>\n",
       "      <td>2.0</td>\n",
       "      <td>0.0</td>\n",
       "      <td>23.0</td>\n",
       "      <td>0.0</td>\n",
       "      <td>65.0</td>\n",
       "      <td>0.0</td>\n",
       "      <td>1.0</td>\n",
       "      <td>NaN</td>\n",
       "      <td>NaN</td>\n",
       "    </tr>\n",
       "    <tr>\n",
       "      <th>4</th>\n",
       "      <td>https://shop.sprouts.com/shop/categories/133?p...</td>\n",
       "      <td>140</td>\n",
       "      <td>8.0</td>\n",
       "      <td>1.0</td>\n",
       "      <td>0.0</td>\n",
       "      <td>0.0</td>\n",
       "      <td>200.0</td>\n",
       "      <td>17.0</td>\n",
       "      <td>2.0</td>\n",
       "      <td>0.0</td>\n",
       "      <td>5.0</td>\n",
       "      <td>0.4</td>\n",
       "      <td>380.0</td>\n",
       "      <td>1.0</td>\n",
       "      <td>1.0</td>\n",
       "      <td>NaN</td>\n",
       "      <td>NaN</td>\n",
       "    </tr>\n",
       "  </tbody>\n",
       "</table>\n",
       "</div>"
      ],
      "text/plain": [
       "                                                 URL  CALORY  TOTAL_FAT  \\\n",
       "0  https://shop.sprouts.com/shop/categories/133?p...     140        8.0   \n",
       "1  https://shop.sprouts.com/shop/categories/133?p...     150        9.0   \n",
       "2  https://shop.sprouts.com/shop/categories/133?p...     130        7.0   \n",
       "3  https://shop.sprouts.com/shop/categories/133?p...     140        7.0   \n",
       "4  https://shop.sprouts.com/shop/categories/133?p...     140        8.0   \n",
       "\n",
       "   SATURATED_FAT  TRANS_FAT  CHOLESTEROL  SODIUM  TOTAL_CARBOHYDRATE  PROTEIN  \\\n",
       "0            0.5        0.0          0.0   110.0                16.0      2.0   \n",
       "1            1.5        0.0          0.0   120.0                16.0      2.0   \n",
       "2            0.5        0.0          0.0    65.0                17.0      2.0   \n",
       "3            0.5        0.0          0.0   120.0                16.0      2.0   \n",
       "4            1.0        0.0          0.0   200.0                17.0      2.0   \n",
       "\n",
       "   VITAMIN_D  CALCIUM  IRON  POTASSIUM  SUGARS  FIBER  POLYUNSATURATED_FAT  \\\n",
       "0        0.0     22.0   0.0       65.0     0.0    1.0                  NaN   \n",
       "1        0.0      6.0   0.0      450.0     0.0    1.0                  NaN   \n",
       "2        0.0      0.0   0.0        0.0     0.0    2.0                  NaN   \n",
       "3        0.0     23.0   0.0       65.0     0.0    1.0                  NaN   \n",
       "4        0.0      5.0   0.4      380.0     1.0    1.0                  NaN   \n",
       "\n",
       "   MONOUNSATURATED_FAT  \n",
       "0                  NaN  \n",
       "1                  NaN  \n",
       "2                  NaN  \n",
       "3                  NaN  \n",
       "4                  NaN  "
      ]
     },
     "execution_count": 89,
     "metadata": {},
     "output_type": "execute_result"
    }
   ],
   "source": [
    "all_df.head()"
   ]
  },
  {
   "cell_type": "code",
   "execution_count": 90,
   "id": "fc76a92d",
   "metadata": {},
   "outputs": [
    {
     "data": {
      "text/html": [
       "<div>\n",
       "<style scoped>\n",
       "    .dataframe tbody tr th:only-of-type {\n",
       "        vertical-align: middle;\n",
       "    }\n",
       "\n",
       "    .dataframe tbody tr th {\n",
       "        vertical-align: top;\n",
       "    }\n",
       "\n",
       "    .dataframe thead th {\n",
       "        text-align: right;\n",
       "    }\n",
       "</style>\n",
       "<table border=\"1\" class=\"dataframe\">\n",
       "  <thead>\n",
       "    <tr style=\"text-align: right;\">\n",
       "      <th></th>\n",
       "      <th>URL</th>\n",
       "      <th>CALORY</th>\n",
       "      <th>TOTAL_FAT</th>\n",
       "      <th>SATURATED_FAT</th>\n",
       "      <th>TRANS_FAT</th>\n",
       "      <th>CHOLESTEROL</th>\n",
       "      <th>SODIUM</th>\n",
       "      <th>TOTAL_CARBOHYDRATE</th>\n",
       "      <th>PROTEIN</th>\n",
       "      <th>VITAMIN_D</th>\n",
       "      <th>CALCIUM</th>\n",
       "      <th>IRON</th>\n",
       "      <th>POTASSIUM</th>\n",
       "      <th>SUGARS</th>\n",
       "      <th>FIBER</th>\n",
       "      <th>POLYUNSATURATED_FAT</th>\n",
       "      <th>MONOUNSATURATED_FAT</th>\n",
       "    </tr>\n",
       "  </thead>\n",
       "  <tbody>\n",
       "    <tr>\n",
       "      <th>1715</th>\n",
       "      <td>https://www.traderjoes.com/home/products/pdp/0...</td>\n",
       "      <td>80</td>\n",
       "      <td>0.0</td>\n",
       "      <td>0.0</td>\n",
       "      <td>0.0</td>\n",
       "      <td>0.0</td>\n",
       "      <td>220.0</td>\n",
       "      <td>17.0</td>\n",
       "      <td>1.0</td>\n",
       "      <td>0.0</td>\n",
       "      <td>10.0</td>\n",
       "      <td>0.1</td>\n",
       "      <td>60.0</td>\n",
       "      <td>1.0</td>\n",
       "      <td>1.0</td>\n",
       "      <td>0.0</td>\n",
       "      <td>0.0</td>\n",
       "    </tr>\n",
       "    <tr>\n",
       "      <th>1716</th>\n",
       "      <td>https://www.traderjoes.com/home/products/pdp/0...</td>\n",
       "      <td>170</td>\n",
       "      <td>17.0</td>\n",
       "      <td>11.0</td>\n",
       "      <td>0.0</td>\n",
       "      <td>0.0</td>\n",
       "      <td>520.0</td>\n",
       "      <td>6.0</td>\n",
       "      <td>0.0</td>\n",
       "      <td>0.0</td>\n",
       "      <td>20.0</td>\n",
       "      <td>0.7</td>\n",
       "      <td>140.0</td>\n",
       "      <td>1.0</td>\n",
       "      <td>1.0</td>\n",
       "      <td>0.0</td>\n",
       "      <td>0.0</td>\n",
       "    </tr>\n",
       "    <tr>\n",
       "      <th>1717</th>\n",
       "      <td>https://www.traderjoes.com/home/products/pdp/0...</td>\n",
       "      <td>500</td>\n",
       "      <td>28.0</td>\n",
       "      <td>8.0</td>\n",
       "      <td>0.0</td>\n",
       "      <td>125.0</td>\n",
       "      <td>670.0</td>\n",
       "      <td>22.0</td>\n",
       "      <td>24.0</td>\n",
       "      <td>0.0</td>\n",
       "      <td>63.0</td>\n",
       "      <td>0.0</td>\n",
       "      <td>141.0</td>\n",
       "      <td>49.0</td>\n",
       "      <td>2.0</td>\n",
       "      <td>0.0</td>\n",
       "      <td>0.0</td>\n",
       "    </tr>\n",
       "    <tr>\n",
       "      <th>1718</th>\n",
       "      <td>https://www.traderjoes.com/home/products/pdp/0...</td>\n",
       "      <td>120</td>\n",
       "      <td>7.0</td>\n",
       "      <td>0.5</td>\n",
       "      <td>0.0</td>\n",
       "      <td>0.0</td>\n",
       "      <td>25.0</td>\n",
       "      <td>11.0</td>\n",
       "      <td>3.0</td>\n",
       "      <td>0.0</td>\n",
       "      <td>20.0</td>\n",
       "      <td>2.4</td>\n",
       "      <td>210.0</td>\n",
       "      <td>8.0</td>\n",
       "      <td>1.0</td>\n",
       "      <td>0.0</td>\n",
       "      <td>0.0</td>\n",
       "    </tr>\n",
       "    <tr>\n",
       "      <th>1719</th>\n",
       "      <td>https://www.traderjoes.com/home/products/pdp/0...</td>\n",
       "      <td>25</td>\n",
       "      <td>1.5</td>\n",
       "      <td>1.0</td>\n",
       "      <td>0.0</td>\n",
       "      <td>0.0</td>\n",
       "      <td>220.0</td>\n",
       "      <td>1.0</td>\n",
       "      <td>1.0</td>\n",
       "      <td>0.0</td>\n",
       "      <td>40.0</td>\n",
       "      <td>1.4</td>\n",
       "      <td>40.0</td>\n",
       "      <td>0.0</td>\n",
       "      <td>1.0</td>\n",
       "      <td>0.0</td>\n",
       "      <td>0.0</td>\n",
       "    </tr>\n",
       "  </tbody>\n",
       "</table>\n",
       "</div>"
      ],
      "text/plain": [
       "                                                    URL  CALORY  TOTAL_FAT  \\\n",
       "1715  https://www.traderjoes.com/home/products/pdp/0...      80        0.0   \n",
       "1716  https://www.traderjoes.com/home/products/pdp/0...     170       17.0   \n",
       "1717  https://www.traderjoes.com/home/products/pdp/0...     500       28.0   \n",
       "1718  https://www.traderjoes.com/home/products/pdp/0...     120        7.0   \n",
       "1719  https://www.traderjoes.com/home/products/pdp/0...      25        1.5   \n",
       "\n",
       "      SATURATED_FAT  TRANS_FAT  CHOLESTEROL  SODIUM  TOTAL_CARBOHYDRATE  \\\n",
       "1715            0.0        0.0          0.0   220.0                17.0   \n",
       "1716           11.0        0.0          0.0   520.0                 6.0   \n",
       "1717            8.0        0.0        125.0   670.0                22.0   \n",
       "1718            0.5        0.0          0.0    25.0                11.0   \n",
       "1719            1.0        0.0          0.0   220.0                 1.0   \n",
       "\n",
       "      PROTEIN  VITAMIN_D  CALCIUM  IRON  POTASSIUM  SUGARS  FIBER  \\\n",
       "1715      1.0        0.0     10.0   0.1       60.0     1.0    1.0   \n",
       "1716      0.0        0.0     20.0   0.7      140.0     1.0    1.0   \n",
       "1717     24.0        0.0     63.0   0.0      141.0    49.0    2.0   \n",
       "1718      3.0        0.0     20.0   2.4      210.0     8.0    1.0   \n",
       "1719      1.0        0.0     40.0   1.4       40.0     0.0    1.0   \n",
       "\n",
       "      POLYUNSATURATED_FAT  MONOUNSATURATED_FAT  \n",
       "1715                  0.0                  0.0  \n",
       "1716                  0.0                  0.0  \n",
       "1717                  0.0                  0.0  \n",
       "1718                  0.0                  0.0  \n",
       "1719                  0.0                  0.0  "
      ]
     },
     "execution_count": 90,
     "metadata": {},
     "output_type": "execute_result"
    }
   ],
   "source": [
    "all_df.tail()"
   ]
  },
  {
   "cell_type": "code",
   "execution_count": 91,
   "id": "addfc6ff",
   "metadata": {},
   "outputs": [
    {
     "data": {
      "text/html": [
       "<div>\n",
       "<style scoped>\n",
       "    .dataframe tbody tr th:only-of-type {\n",
       "        vertical-align: middle;\n",
       "    }\n",
       "\n",
       "    .dataframe tbody tr th {\n",
       "        vertical-align: top;\n",
       "    }\n",
       "\n",
       "    .dataframe thead th {\n",
       "        text-align: right;\n",
       "    }\n",
       "</style>\n",
       "<table border=\"1\" class=\"dataframe\">\n",
       "  <thead>\n",
       "    <tr style=\"text-align: right;\">\n",
       "      <th></th>\n",
       "      <th>URL</th>\n",
       "      <th>CALORY</th>\n",
       "      <th>TOTAL_FAT</th>\n",
       "      <th>SATURATED_FAT</th>\n",
       "      <th>TRANS_FAT</th>\n",
       "      <th>CHOLESTEROL</th>\n",
       "      <th>SODIUM</th>\n",
       "      <th>TOTAL_CARBOHYDRATE</th>\n",
       "      <th>PROTEIN</th>\n",
       "      <th>VITAMIN_D</th>\n",
       "      <th>CALCIUM</th>\n",
       "      <th>IRON</th>\n",
       "      <th>POTASSIUM</th>\n",
       "      <th>SUGARS</th>\n",
       "      <th>FIBER</th>\n",
       "      <th>POLYUNSATURATED_FAT</th>\n",
       "      <th>MONOUNSATURATED_FAT</th>\n",
       "    </tr>\n",
       "  </thead>\n",
       "  <tbody>\n",
       "    <tr>\n",
       "      <th>585</th>\n",
       "      <td>https://shop.sprouts.com/shop/categories/133?p...</td>\n",
       "      <td>70</td>\n",
       "      <td>0.5</td>\n",
       "      <td>0.0</td>\n",
       "      <td>0.0</td>\n",
       "      <td>25.0</td>\n",
       "      <td>400.0</td>\n",
       "      <td>6.0</td>\n",
       "      <td>9.0</td>\n",
       "      <td>0.0</td>\n",
       "      <td>0.0</td>\n",
       "      <td>0.0</td>\n",
       "      <td>0.0</td>\n",
       "      <td>4.0</td>\n",
       "      <td>0.0</td>\n",
       "      <td>NaN</td>\n",
       "      <td>NaN</td>\n",
       "    </tr>\n",
       "    <tr>\n",
       "      <th>1066</th>\n",
       "      <td>https://shop.sprouts.com/shop/categories/153?p...</td>\n",
       "      <td>90</td>\n",
       "      <td>0.0</td>\n",
       "      <td>0.0</td>\n",
       "      <td>0.0</td>\n",
       "      <td>0.0</td>\n",
       "      <td>20.0</td>\n",
       "      <td>24.0</td>\n",
       "      <td>1.0</td>\n",
       "      <td>0.0</td>\n",
       "      <td>0.0</td>\n",
       "      <td>0.0</td>\n",
       "      <td>0.0</td>\n",
       "      <td>40.0</td>\n",
       "      <td>0.0</td>\n",
       "      <td>NaN</td>\n",
       "      <td>NaN</td>\n",
       "    </tr>\n",
       "    <tr>\n",
       "      <th>460</th>\n",
       "      <td>https://shop.sprouts.com/shop/categories/133?p...</td>\n",
       "      <td>130</td>\n",
       "      <td>7.0</td>\n",
       "      <td>1.0</td>\n",
       "      <td>0.0</td>\n",
       "      <td>0.0</td>\n",
       "      <td>130.0</td>\n",
       "      <td>14.0</td>\n",
       "      <td>2.0</td>\n",
       "      <td>0.0</td>\n",
       "      <td>11.0</td>\n",
       "      <td>1.0</td>\n",
       "      <td>109.0</td>\n",
       "      <td>2.0</td>\n",
       "      <td>2.0</td>\n",
       "      <td>NaN</td>\n",
       "      <td>NaN</td>\n",
       "    </tr>\n",
       "    <tr>\n",
       "      <th>1435</th>\n",
       "      <td>https://www.traderjoes.com/home/products/pdp/0...</td>\n",
       "      <td>110</td>\n",
       "      <td>9.0</td>\n",
       "      <td>6.0</td>\n",
       "      <td>0.0</td>\n",
       "      <td>25.0</td>\n",
       "      <td>125.0</td>\n",
       "      <td>1.0</td>\n",
       "      <td>7.0</td>\n",
       "      <td>0.0</td>\n",
       "      <td>0.0</td>\n",
       "      <td>0.0</td>\n",
       "      <td>0.0</td>\n",
       "      <td>0.0</td>\n",
       "      <td>0.0</td>\n",
       "      <td>0.0</td>\n",
       "      <td>0.0</td>\n",
       "    </tr>\n",
       "    <tr>\n",
       "      <th>1182</th>\n",
       "      <td>https://shop.sprouts.com/shop/categories/153?p...</td>\n",
       "      <td>190</td>\n",
       "      <td>1.5</td>\n",
       "      <td>0.0</td>\n",
       "      <td>0.0</td>\n",
       "      <td>10.0</td>\n",
       "      <td>370.0</td>\n",
       "      <td>31.0</td>\n",
       "      <td>14.0</td>\n",
       "      <td>0.0</td>\n",
       "      <td>0.0</td>\n",
       "      <td>0.0</td>\n",
       "      <td>0.0</td>\n",
       "      <td>9.0</td>\n",
       "      <td>4.0</td>\n",
       "      <td>NaN</td>\n",
       "      <td>NaN</td>\n",
       "    </tr>\n",
       "  </tbody>\n",
       "</table>\n",
       "</div>"
      ],
      "text/plain": [
       "                                                    URL  CALORY  TOTAL_FAT  \\\n",
       "585   https://shop.sprouts.com/shop/categories/133?p...      70        0.5   \n",
       "1066  https://shop.sprouts.com/shop/categories/153?p...      90        0.0   \n",
       "460   https://shop.sprouts.com/shop/categories/133?p...     130        7.0   \n",
       "1435  https://www.traderjoes.com/home/products/pdp/0...     110        9.0   \n",
       "1182  https://shop.sprouts.com/shop/categories/153?p...     190        1.5   \n",
       "\n",
       "      SATURATED_FAT  TRANS_FAT  CHOLESTEROL  SODIUM  TOTAL_CARBOHYDRATE  \\\n",
       "585             0.0        0.0         25.0   400.0                 6.0   \n",
       "1066            0.0        0.0          0.0    20.0                24.0   \n",
       "460             1.0        0.0          0.0   130.0                14.0   \n",
       "1435            6.0        0.0         25.0   125.0                 1.0   \n",
       "1182            0.0        0.0         10.0   370.0                31.0   \n",
       "\n",
       "      PROTEIN  VITAMIN_D  CALCIUM  IRON  POTASSIUM  SUGARS  FIBER  \\\n",
       "585       9.0        0.0      0.0   0.0        0.0     4.0    0.0   \n",
       "1066      1.0        0.0      0.0   0.0        0.0    40.0    0.0   \n",
       "460       2.0        0.0     11.0   1.0      109.0     2.0    2.0   \n",
       "1435      7.0        0.0      0.0   0.0        0.0     0.0    0.0   \n",
       "1182     14.0        0.0      0.0   0.0        0.0     9.0    4.0   \n",
       "\n",
       "      POLYUNSATURATED_FAT  MONOUNSATURATED_FAT  \n",
       "585                   NaN                  NaN  \n",
       "1066                  NaN                  NaN  \n",
       "460                   NaN                  NaN  \n",
       "1435                  0.0                  0.0  \n",
       "1182                  NaN                  NaN  "
      ]
     },
     "execution_count": 91,
     "metadata": {},
     "output_type": "execute_result"
    }
   ],
   "source": [
    "all_df.sample(5)"
   ]
  },
  {
   "cell_type": "code",
   "execution_count": 92,
   "id": "334ae529",
   "metadata": {},
   "outputs": [
    {
     "data": {
      "text/plain": [
       "(1720, 17)"
      ]
     },
     "execution_count": 92,
     "metadata": {},
     "output_type": "execute_result"
    }
   ],
   "source": [
    "all_df.shape"
   ]
  },
  {
   "cell_type": "code",
   "execution_count": 93,
   "id": "ef11b195",
   "metadata": {
    "scrolled": true
   },
   "outputs": [
    {
     "data": {
      "text/plain": [
       "Index(['URL', 'CALORY', 'TOTAL_FAT', 'SATURATED_FAT', 'TRANS_FAT',\n",
       "       'CHOLESTEROL', 'SODIUM', 'TOTAL_CARBOHYDRATE', 'PROTEIN', 'VITAMIN_D',\n",
       "       'CALCIUM', 'IRON', 'POTASSIUM', 'SUGARS', 'FIBER',\n",
       "       'POLYUNSATURATED_FAT', 'MONOUNSATURATED_FAT'],\n",
       "      dtype='object')"
      ]
     },
     "execution_count": 93,
     "metadata": {},
     "output_type": "execute_result"
    }
   ],
   "source": [
    "all_df.columns"
   ]
  },
  {
   "cell_type": "markdown",
   "id": "d3b712fa",
   "metadata": {},
   "source": [
    "### Drop Columns "
   ]
  },
  {
   "cell_type": "code",
   "execution_count": 94,
   "id": "885d3c42",
   "metadata": {},
   "outputs": [
    {
     "data": {
      "text/plain": [
       "MONOUNSATURATED_FAT    1305\n",
       "POLYUNSATURATED_FAT    1305\n",
       "VITAMIN_D                 0\n",
       "FIBER                     0\n",
       "SUGARS                    0\n",
       "POTASSIUM                 0\n",
       "IRON                      0\n",
       "CALCIUM                   0\n",
       "URL                       0\n",
       "CALORY                    0\n",
       "TOTAL_CARBOHYDRATE        0\n",
       "SODIUM                    0\n",
       "CHOLESTEROL               0\n",
       "TRANS_FAT                 0\n",
       "SATURATED_FAT             0\n",
       "TOTAL_FAT                 0\n",
       "PROTEIN                   0\n",
       "dtype: int64"
      ]
     },
     "execution_count": 94,
     "metadata": {},
     "output_type": "execute_result"
    }
   ],
   "source": [
    "# check collumns with large number of nulls \n",
    "all_df.isnull().sum().sort_values(ascending = False)"
   ]
  },
  {
   "cell_type": "code",
   "execution_count": 95,
   "id": "133d5acb",
   "metadata": {},
   "outputs": [],
   "source": [
    "# drop columns with nulls\n",
    "all_df.drop(['MONOUNSATURATED_FAT','POLYUNSATURATED_FAT', 'URL'] , axis=1, inplace=True)"
   ]
  },
  {
   "cell_type": "code",
   "execution_count": 96,
   "id": "645fc006",
   "metadata": {
    "scrolled": true
   },
   "outputs": [
    {
     "data": {
      "text/plain": [
       "(1720, 14)"
      ]
     },
     "execution_count": 96,
     "metadata": {},
     "output_type": "execute_result"
    }
   ],
   "source": [
    "all_df.shape"
   ]
  },
  {
   "cell_type": "markdown",
   "id": "de122ea1",
   "metadata": {},
   "source": [
    "### Save Data into CSV"
   ]
  },
  {
   "cell_type": "code",
   "execution_count": 97,
   "id": "e44116e5",
   "metadata": {},
   "outputs": [],
   "source": [
    "all_df.to_csv('all_df.csv')"
   ]
  },
  {
   "cell_type": "markdown",
   "id": "5766d6b4",
   "metadata": {},
   "source": [
    "### Methods to Use Amoung File"
   ]
  },
  {
   "cell_type": "code",
   "execution_count": 101,
   "id": "d75dcc97",
   "metadata": {},
   "outputs": [],
   "source": [
    "# plot a bix plot for each column to discover outliers\n",
    "\n",
    "columns_names= ['Calory', \"Total Fat\",\"Saturated Fat\", \"Trans Fat\", \"Cholesterol\", \"Sodium\", \"Total Carbohydrate\",\n",
    "               \"Protein\", \"Vitamin D\", \"Calcium\", \"Iron\", \"Potassium\", \"Sugars\", \"Fiber\"]\n",
    "def plot_box(df, size):\n",
    "    \"\"\"\n",
    "    This method will be called to plot a box plot for each column; to detect the outliers.  \n",
    "    \"\"\"\n",
    "    plt.figure(figsize = [25,50])\n",
    "    for i in range(1,size + 1):\n",
    "        plt.subplot(5,3,i)\n",
    "        sns.boxplot(data = df.iloc[:,i-1], color= '#9546A2')\n",
    "        plt.title(columns_names[i-1], fontsize = 20)\n",
    "    plt.savefig('Boxpolt_aft_outliers.png')"
   ]
  },
  {
   "cell_type": "code",
   "execution_count": 99,
   "id": "b698e130",
   "metadata": {},
   "outputs": [],
   "source": [
    "def fillna_mean(df):\n",
    "    \"\"\"\n",
    "    This method will be called to fill the null values of each column with the mean value.\n",
    "    \"\"\"\n",
    "    for col in df.columns:\n",
    "        mean = np.mean(df[col])\n",
    "        df[col].fillna(value=mean, inplace=True)"
   ]
  },
  {
   "cell_type": "code",
   "execution_count": 100,
   "id": "b32b5bcf",
   "metadata": {
    "scrolled": true
   },
   "outputs": [
    {
     "data": {
      "image/png": "[encoded data removed]",
      "text/plain": [
       "<Figure size 1800x3600 with 14 Axes>"
      ]
     },
     "metadata": {
      "needs_background": "light"
     },
     "output_type": "display_data"
    }
   ],
   "source": [
    "# call plot_box method\n",
    "plot_box(all_df, all_df.shape[1])"
   ]
  },
  {
   "cell_type": "markdown",
   "id": "4c66a75e",
   "metadata": {},
   "source": [
    "As we see in the above box plot, there is a lot of outliers, so we must dealing with them."
   ]
  },
  {
   "cell_type": "markdown",
   "id": "2d2911b3",
   "metadata": {},
   "source": [
    "### Detect Outliers"
   ]
  },
  {
   "cell_type": "code",
   "execution_count": 102,
   "id": "b26b8fbe",
   "metadata": {},
   "outputs": [],
   "source": [
    "# detect the outliers using IQR \n",
    "Q1 = all_df[all_df.columns].quantile(q = 0.25)\n",
    "Q3 = all_df[all_df.columns].quantile(q = 0.75)\n",
    "IQR = Q3 - Q1\n",
    "\n",
    "# store in the dataset only values <= the max value \n",
    "all_df = all_df[((all_df[all_df.columns] <= (Q3 + 1.5 * IQR)))]"
   ]
  },
  {
   "cell_type": "markdown",
   "id": "58df5bc1",
   "metadata": {},
   "source": [
    "From the above step, we got a lot of nulls after storing the values less than or equal to the maximum value, so we have to deal with nulls."
   ]
  },
  {
   "cell_type": "code",
   "execution_count": 103,
   "id": "fab2a484",
   "metadata": {},
   "outputs": [],
   "source": [
    "# calling the function to fill the null values.\n",
    "fillna_mean(all_df)"
   ]
  },
  {
   "cell_type": "code",
   "execution_count": 104,
   "id": "77e73614",
   "metadata": {
    "scrolled": false
   },
   "outputs": [
    {
     "data": {
      "image/png": "[encoded data removed]",
      "text/plain": [
       "<Figure size 1800x3600 with 14 Axes>"
      ]
     },
     "metadata": {
      "needs_background": "light"
     },
     "output_type": "display_data"
    }
   ],
   "source": [
    "# draw a box plot after removing outliers.\n",
    "plot_box(all_df, all_df.shape[1])"
   ]
  },
  {
   "cell_type": "markdown",
   "id": "7e93e688",
   "metadata": {},
   "source": [
    "As we see, there are still a few outliers need to be fixed."
   ]
  },
  {
   "cell_type": "markdown",
   "id": "9ba5daf0",
   "metadata": {},
   "source": [
    "### Add Data to DataBase "
   ]
  },
  {
   "cell_type": "code",
   "execution_count": 32,
   "id": "bc217e62",
   "metadata": {},
   "outputs": [],
   "source": [
    "conn = sql.connect('Cleaned_df.db')"
   ]
  },
  {
   "cell_type": "code",
   "execution_count": 33,
   "id": "0128cf49",
   "metadata": {},
   "outputs": [],
   "source": [
    "all_df.to_sql('Cleaned_df', conn)"
   ]
  }
 ],
 "metadata": {
  "kernelspec": {
   "display_name": "Python 3",
   "language": "python",
   "name": "python3"
  },
  "language_info": {
   "codemirror_mode": {
    "name": "ipython",
    "version": 3
   },
   "file_extension": ".py",
   "mimetype": "text/x-python",
   "name": "python",
   "nbconvert_exporter": "python",
   "pygments_lexer": "ipython3",
   "version": "3.8.8"
  }
 },
 "nbformat": 4,
 "nbformat_minor": 5
}
