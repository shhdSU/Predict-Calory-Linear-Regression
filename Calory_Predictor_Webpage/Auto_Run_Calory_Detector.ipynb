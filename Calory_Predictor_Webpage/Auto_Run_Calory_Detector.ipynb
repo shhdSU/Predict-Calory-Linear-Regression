{
 "cells": [
  {
   "cell_type": "markdown",
   "id": "a0a2e5bf",
   "metadata": {},
   "source": [
    "## Notebook Content"
   ]
  },
  {
   "cell_type": "markdown",
   "id": "e497f5cf",
   "metadata": {},
   "source": [
    "This notebook for autorun the built webpage __(Calory Predictor)__ to show the predicted calory against the true calory."
   ]
  },
  {
   "cell_type": "markdown",
   "id": "597e7d24",
   "metadata": {},
   "source": [
    "## Import Libraries"
   ]
  },
  {
   "cell_type": "code",
   "execution_count": 1,
   "id": "db3ecfcf",
   "metadata": {},
   "outputs": [],
   "source": [
    "from bs4 import BeautifulSoup\n",
    "import sqlite3 as sql\n",
    "import requests\n",
    "import time, os\n",
    "from selenium import webdriver\n",
    "from selenium.webdriver.common.keys import Keys\n",
    "import pandas as pd\n",
    "import numpy as np\n",
    "from flask import Response\n",
    "from selenium.webdriver.support.ui import WebDriverWait\n",
    "from selenium.webdriver.common.by import By\n",
    "from selenium.webdriver.support import expected_conditions as EC\n",
    "from sklearn.ensemble import GradientBoostingRegressor"
   ]
  },
  {
   "cell_type": "markdown",
   "id": "d5c3a259",
   "metadata": {},
   "source": [
    "## Read the Used Data"
   ]
  },
  {
   "cell_type": "code",
   "execution_count": 2,
   "id": "469724b7",
   "metadata": {},
   "outputs": [],
   "source": [
    "Xs_test_connection= sql.connect('/Users/shahadsulaiman/Desktop/Linear-Regression-detect-calories/Xs_test_FE.db')\n",
    "Xs_test = pd.read_sql('SELECT * FROM Xs_test_FE', Xs_test_connection)"
   ]
  },
  {
   "cell_type": "code",
   "execution_count": 3,
   "id": "4d068089",
   "metadata": {},
   "outputs": [],
   "source": [
    "Xs_val_train_connection = sql.connect('/Users/shahadsulaiman/Desktop/Linear-Regression-detect-calories/Xs_train_val_FE.db')\n",
    "Xs_val_train = pd.read_sql('SELECT * FROM Xs_train_val_FE', Xs_val_train_connection)"
   ]
  },
  {
   "cell_type": "code",
   "execution_count": 4,
   "id": "12270337",
   "metadata": {},
   "outputs": [],
   "source": [
    "y_val_train_connection= sql.connect('/Users/shahadsulaiman/Desktop/Linear-Regression-detect-calories/y_train_val_FE.db')\n",
    "y_val_train = pd.read_sql('SELECT * FROM y_train_val_FE', y_val_train_connection)"
   ]
  },
  {
   "cell_type": "code",
   "execution_count": 5,
   "id": "4198e3e8",
   "metadata": {},
   "outputs": [],
   "source": [
    "y_test_connection= sql.connect('/Users/shahadsulaiman/Desktop/Linear-Regression-detect-calories/y_test.db')\n",
    "y_test = pd.read_sql('SELECT * FROM y_test', y_test_connection)"
   ]
  },
  {
   "cell_type": "code",
   "execution_count": 6,
   "id": "524dce17",
   "metadata": {},
   "outputs": [],
   "source": [
    "Xs_test.drop('index', axis='columns', inplace = True)\n",
    "y_test.drop('index', axis='columns', inplace = True)\n",
    "Xs_val_train.drop('index', axis='columns', inplace = True)\n",
    "y_val_train.drop('index', axis='columns', inplace = True)"
   ]
  },
  {
   "cell_type": "markdown",
   "id": "ea989cf7",
   "metadata": {},
   "source": [
    "## Model Initialization "
   ]
  },
  {
   "cell_type": "code",
   "execution_count": 7,
   "id": "75ee854f",
   "metadata": {},
   "outputs": [],
   "source": [
    "model = GradientBoostingRegressor(random_state = 100)\n",
    "fitting = model.fit(Xs_val_train, y_val_train.values.ravel())"
   ]
  },
  {
   "cell_type": "markdown",
   "id": "afdb35d6",
   "metadata": {},
   "source": [
    "this for take 10 sample randomly from  testsets and use it for webpage auto run"
   ]
  },
  {
   "cell_type": "code",
   "execution_count": 8,
   "id": "3a2fdbca",
   "metadata": {},
   "outputs": [],
   "source": [
    "y_smaple = y_test.sample(5, random_state = 4 )\n",
    "Xs_sample = Xs_test.sample(5, random_state = 4 )"
   ]
  },
  {
   "cell_type": "markdown",
   "id": "9efa4060",
   "metadata": {},
   "source": [
    "show the samples"
   ]
  },
  {
   "cell_type": "code",
   "execution_count": 9,
   "id": "c9cf5114",
   "metadata": {
    "scrolled": true
   },
   "outputs": [
    {
     "data": {
      "text/html": [
       "<div>\n",
       "<style scoped>\n",
       "    .dataframe tbody tr th:only-of-type {\n",
       "        vertical-align: middle;\n",
       "    }\n",
       "\n",
       "    .dataframe tbody tr th {\n",
       "        vertical-align: top;\n",
       "    }\n",
       "\n",
       "    .dataframe thead th {\n",
       "        text-align: right;\n",
       "    }\n",
       "</style>\n",
       "<table border=\"1\" class=\"dataframe\">\n",
       "  <thead>\n",
       "    <tr style=\"text-align: right;\">\n",
       "      <th></th>\n",
       "      <th>CALORY</th>\n",
       "    </tr>\n",
       "  </thead>\n",
       "  <tbody>\n",
       "    <tr>\n",
       "      <th>63</th>\n",
       "      <td>140.0</td>\n",
       "    </tr>\n",
       "    <tr>\n",
       "      <th>34</th>\n",
       "      <td>100.0</td>\n",
       "    </tr>\n",
       "    <tr>\n",
       "      <th>184</th>\n",
       "      <td>25.0</td>\n",
       "    </tr>\n",
       "    <tr>\n",
       "      <th>146</th>\n",
       "      <td>200.0</td>\n",
       "    </tr>\n",
       "    <tr>\n",
       "      <th>130</th>\n",
       "      <td>110.0</td>\n",
       "    </tr>\n",
       "  </tbody>\n",
       "</table>\n",
       "</div>"
      ],
      "text/plain": [
       "     CALORY\n",
       "63    140.0\n",
       "34    100.0\n",
       "184    25.0\n",
       "146   200.0\n",
       "130   110.0"
      ]
     },
     "execution_count": 9,
     "metadata": {},
     "output_type": "execute_result"
    }
   ],
   "source": [
    "y_smaple"
   ]
  },
  {
   "cell_type": "code",
   "execution_count": 10,
   "id": "72309324",
   "metadata": {
    "scrolled": false
   },
   "outputs": [
    {
     "data": {
      "text/html": [
       "<div>\n",
       "<style scoped>\n",
       "    .dataframe tbody tr th:only-of-type {\n",
       "        vertical-align: middle;\n",
       "    }\n",
       "\n",
       "    .dataframe tbody tr th {\n",
       "        vertical-align: top;\n",
       "    }\n",
       "\n",
       "    .dataframe thead th {\n",
       "        text-align: right;\n",
       "    }\n",
       "</style>\n",
       "<table border=\"1\" class=\"dataframe\">\n",
       "  <thead>\n",
       "    <tr style=\"text-align: right;\">\n",
       "      <th></th>\n",
       "      <th>TOTAL_FAT</th>\n",
       "      <th>SATURATED_FAT</th>\n",
       "      <th>TOTAL_CARBOHYDRATE</th>\n",
       "      <th>PROTEIN</th>\n",
       "      <th>CALCIUM</th>\n",
       "      <th>IRON</th>\n",
       "      <th>POTASSIUM</th>\n",
       "      <th>SUGARS</th>\n",
       "      <th>FIBER</th>\n",
       "      <th>SATURATED_FAT+TOTAL_FAT</th>\n",
       "      <th>TOTAL_CARBOHYDRATE_SQ</th>\n",
       "    </tr>\n",
       "  </thead>\n",
       "  <tbody>\n",
       "    <tr>\n",
       "      <th>63</th>\n",
       "      <td>0.265267</td>\n",
       "      <td>-0.154489</td>\n",
       "      <td>0.255549</td>\n",
       "      <td>-0.185370</td>\n",
       "      <td>-1.002445</td>\n",
       "      <td>-0.922115</td>\n",
       "      <td>-1.158363</td>\n",
       "      <td>-0.508651</td>\n",
       "      <td>-0.187875</td>\n",
       "      <td>0.110778</td>\n",
       "      <td>0.065305</td>\n",
       "    </tr>\n",
       "    <tr>\n",
       "      <th>34</th>\n",
       "      <td>0.437010</td>\n",
       "      <td>1.069709</td>\n",
       "      <td>-1.859569</td>\n",
       "      <td>1.141709</td>\n",
       "      <td>-1.002445</td>\n",
       "      <td>-0.922115</td>\n",
       "      <td>-1.158363</td>\n",
       "      <td>-1.211867</td>\n",
       "      <td>-1.325534</td>\n",
       "      <td>1.506719</td>\n",
       "      <td>3.457996</td>\n",
       "    </tr>\n",
       "    <tr>\n",
       "      <th>184</th>\n",
       "      <td>-1.559334</td>\n",
       "      <td>-1.255148</td>\n",
       "      <td>-1.102616</td>\n",
       "      <td>-0.708747</td>\n",
       "      <td>-1.002445</td>\n",
       "      <td>-0.922115</td>\n",
       "      <td>-1.158363</td>\n",
       "      <td>-1.211867</td>\n",
       "      <td>-1.325534</td>\n",
       "      <td>-2.814482</td>\n",
       "      <td>1.215761</td>\n",
       "    </tr>\n",
       "    <tr>\n",
       "      <th>146</th>\n",
       "      <td>0.437010</td>\n",
       "      <td>0.621680</td>\n",
       "      <td>0.654732</td>\n",
       "      <td>0.335351</td>\n",
       "      <td>0.737543</td>\n",
       "      <td>1.476726</td>\n",
       "      <td>0.962948</td>\n",
       "      <td>-0.508651</td>\n",
       "      <td>0.319771</td>\n",
       "      <td>1.058690</td>\n",
       "      <td>0.428674</td>\n",
       "    </tr>\n",
       "    <tr>\n",
       "      <th>130</th>\n",
       "      <td>0.437010</td>\n",
       "      <td>1.461936</td>\n",
       "      <td>-0.850283</td>\n",
       "      <td>-0.185370</td>\n",
       "      <td>0.818139</td>\n",
       "      <td>-0.922115</td>\n",
       "      <td>0.191915</td>\n",
       "      <td>0.867817</td>\n",
       "      <td>0.460151</td>\n",
       "      <td>1.898946</td>\n",
       "      <td>0.722982</td>\n",
       "    </tr>\n",
       "  </tbody>\n",
       "</table>\n",
       "</div>"
      ],
      "text/plain": [
       "     TOTAL_FAT  SATURATED_FAT  TOTAL_CARBOHYDRATE   PROTEIN   CALCIUM  \\\n",
       "63    0.265267      -0.154489            0.255549 -0.185370 -1.002445   \n",
       "34    0.437010       1.069709           -1.859569  1.141709 -1.002445   \n",
       "184  -1.559334      -1.255148           -1.102616 -0.708747 -1.002445   \n",
       "146   0.437010       0.621680            0.654732  0.335351  0.737543   \n",
       "130   0.437010       1.461936           -0.850283 -0.185370  0.818139   \n",
       "\n",
       "         IRON  POTASSIUM    SUGARS     FIBER  SATURATED_FAT+TOTAL_FAT  \\\n",
       "63  -0.922115  -1.158363 -0.508651 -0.187875                 0.110778   \n",
       "34  -0.922115  -1.158363 -1.211867 -1.325534                 1.506719   \n",
       "184 -0.922115  -1.158363 -1.211867 -1.325534                -2.814482   \n",
       "146  1.476726   0.962948 -0.508651  0.319771                 1.058690   \n",
       "130 -0.922115   0.191915  0.867817  0.460151                 1.898946   \n",
       "\n",
       "     TOTAL_CARBOHYDRATE_SQ  \n",
       "63                0.065305  \n",
       "34                3.457996  \n",
       "184               1.215761  \n",
       "146               0.428674  \n",
       "130               0.722982  "
      ]
     },
     "execution_count": 10,
     "metadata": {},
     "output_type": "execute_result"
    }
   ],
   "source": [
    "Xs_sample"
   ]
  },
  {
   "cell_type": "markdown",
   "id": "fcc8d479",
   "metadata": {},
   "source": [
    "## Web Driver Initialization"
   ]
  },
  {
   "cell_type": "code",
   "execution_count": 11,
   "id": "afbdb3a2",
   "metadata": {},
   "outputs": [],
   "source": [
    "#Amjad Path\n",
    "path = \"/Users/amjad/Downloads/chromedriver\""
   ]
  },
  {
   "cell_type": "code",
   "execution_count": 12,
   "id": "86a72c40",
   "metadata": {},
   "outputs": [],
   "source": [
    "#Shahad Path\n",
    "path = \"/Users/shahadsulaiman/Downloads/chromedriver\""
   ]
  },
  {
   "cell_type": "code",
   "execution_count": 13,
   "id": "f48975a7",
   "metadata": {},
   "outputs": [],
   "source": [
    "chromedriver = path # path to the chromedriver executable\n",
    "os.environ[\"webdriver.chrome.driver\"] = chromedriver"
   ]
  },
  {
   "cell_type": "code",
   "execution_count": 14,
   "id": "042e1d08",
   "metadata": {},
   "outputs": [],
   "source": [
    "driver = webdriver.Chrome(chromedriver) ## note that this webpage file is present localy\n",
    "driver.get('file:////Users/shahadsulaiman/Desktop/Linear-Regression-detect-calories/Webpage_for_auto_test/CaloryPredictor.html')"
   ]
  },
  {
   "cell_type": "markdown",
   "id": "f5234c59",
   "metadata": {},
   "source": [
    "## Start Auto Run"
   ]
  },
  {
   "cell_type": "code",
   "execution_count": 15,
   "id": "5fb0bf1b",
   "metadata": {},
   "outputs": [],
   "source": [
    "## Initialize each text input to write the smaples features inside \n",
    "Total_Fat_in = driver.find_element_by_id(\"Total_Fat\")\n",
    "Saturated_Fat_in = driver.find_element_by_id(\"Saturated_Fat\")\n",
    "Total_Carbohydrate_in = driver.find_element_by_id(\"Total_Carbohydrate\")\n",
    "Protein_in = driver.find_element_by_id(\"Protein\")\n",
    "Calcium_in = driver.find_element_by_id(\"Calcium\")\n",
    "Iron_in = driver.find_element_by_id(\"Iron\")\n",
    "Sugars_in = driver.find_element_by_id(\"Sugars\")\n",
    "Fiber_in = driver.find_element_by_id(\"Fiber\")\n",
    "inputs_list = [Total_Fat_in, Saturated_Fat_in, Total_Carbohydrate_in,  ## store them into a list\n",
    "               Protein_in, Calcium_in, Iron_in, Sugars_in, Fiber_in]"
   ]
  },
  {
   "cell_type": "code",
   "execution_count": 16,
   "id": "89825c21",
   "metadata": {},
   "outputs": [],
   "source": [
    "y_preds_in = [] ## list to store text inputs that will hold the results of predected y\n",
    "y_true_in = [] ## list to store text inputs that will hold the true y\n",
    "\n",
    "for i in range(5): ## this loop will start append each text input in it's right list\n",
    "    d = driver.find_element_by_id(f\"DOutput-{str(i+1)}\")\n",
    "    t = driver.find_element_by_id(f\"TOutput-{str(i+1)}\")\n",
    "    y_preds_in.append(d)\n",
    "    y_true_in.append(t)"
   ]
  },
  {
   "cell_type": "code",
   "execution_count": 17,
   "id": "9f1414f5",
   "metadata": {},
   "outputs": [],
   "source": [
    "def fill_inputs(row):\n",
    "    \"\"\"\n",
    "    This method take only one sample and start filling the text inputs with them\n",
    "    \"\"\"\n",
    "    for i, input_ in enumerate(inputs_list):\n",
    "        input_.send_keys(str(row[0][i]))"
   ]
  },
  {
   "cell_type": "code",
   "execution_count": 18,
   "id": "80685415",
   "metadata": {},
   "outputs": [],
   "source": [
    "def clear_inputs():\n",
    "    \"\"\"\n",
    "    This method will clear all text inputs\n",
    "    \"\"\"\n",
    "    for input_ in inputs_list:\n",
    "        input_.clear()"
   ]
  },
  {
   "cell_type": "markdown",
   "id": "b58868ba",
   "metadata": {},
   "source": [
    "This below for loop code will perform like the following: loop over samples and call method __fill_inputs__ to fill them into text inputs then pause for 1 second then predict the y and display it with the true y then pause for 1 second, then call __clear_inputs__ method to clear all inputs and be ready for the next iteration then pause 2 seconds before the next iteration start."
   ]
  },
  {
   "cell_type": "code",
   "execution_count": 19,
   "id": "e8fc6beb",
   "metadata": {
    "scrolled": true
   },
   "outputs": [],
   "source": [
    "for i in range(5):\n",
    "    X = Xs_sample.iloc[i,:].values.reshape(1, -1)\n",
    "    y = y_smaple.iloc[i].values[0]\n",
    "    fill_inputs(X)\n",
    "    time.sleep(1)\n",
    "    y_pred = fitting.predict(X)\n",
    "    y_preds_in[i].send_keys(str('{:.2f}'.format(y_pred[0])))\n",
    "    y_true_in[i].send_keys(str(y))\n",
    "    time.sleep(1)\n",
    "    clear_inputs()\n",
    "    time.sleep(2)"
   ]
  }
 ],
 "metadata": {
  "kernelspec": {
   "display_name": "Python 3",
   "language": "python",
   "name": "python3"
  },
  "language_info": {
   "codemirror_mode": {
    "name": "ipython",
    "version": 3
   },
   "file_extension": ".py",
   "mimetype": "text/x-python",
   "name": "python",
   "nbconvert_exporter": "python",
   "pygments_lexer": "ipython3",
   "version": "3.8.8"
  }
 },
 "nbformat": 4,
 "nbformat_minor": 5
}
